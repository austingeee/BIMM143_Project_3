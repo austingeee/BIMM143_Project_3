{
 "cells": [
  {
   "cell_type": "markdown",
   "metadata": {},
   "source": [
    "# BIMM143 Project 3"
   ]
  },
  {
   "cell_type": "markdown",
   "metadata": {},
   "source": [
    "# Intoduction\n",
    "scientific question: How similar are the genes for Casein Kinase 1 Delta, a protein that helps control circadian rhythm, between humans and different species?\n",
    "\n",
    "Casein Kinase 1 Delta (CK1D) is a protein kinase that phosphorylates a number of different proteins in the metabolic pathways for circadian rhytm. CK1D is known to specifically target PER1/2 genes, which controls circadian cycle length. Additionally, CK1D can also itself be phosphorylated, which directly effects its function, and thus the function of proteins downstream in the pathway (https://www.pnas.org/content/115/23/5986).\n",
    "\n",
    "It seems that most complex eukaryotes contain genes for Casein Kinase 1 Delta. This project aims to determine wether or not amino acid sequecnes for CK1D is conserved across different species, and if so to what degree. \n",
    "\n",
    "Hypothesis: If an organism is closer in evolutionary relation to Humans (Homo Sapiens), then the alignment score between Humans and that organism's sequence will be higher. \n",
    "\n",
    "Protein sequneces for CK1D were collected for multiple organisms: Humans, Fruit Bats, Zebrafish, House Mouse, Chimpanzees, and Clawed Frogs. A pairwise alignment method was used to compare each of the organisms aino acid sequences, using Humans as a reference for all comparisons. The sequences used for the alignment were found on the National Center for Biotehnology Information (NCBI, https://www.ncbi.nlm.nih.gov/). The sequences were saved indivisually as .txt files to be read in the actual code. \n",
    ". "
   ]
  },
  {
   "cell_type": "markdown",
   "metadata": {},
   "source": [
    "# Part 1: Load the Packages.\n",
    "\n",
    "The two packages that are needed for this code are:\n",
    "\n",
    "BioPython: a bioinformatics package that contains different functions for analyzing biological data. For this aplication, the pairwise2 function was imported to be used to align the different protein sequences. \n",
    "\n",
    "matplotlib: a package that contains functions for creating a multitude of different graphs and tables for displaying data. For this application, the pyplot subpackage was used to access the function to create a table, which is how the data will be presented. \n"
   ]
  },
  {
   "cell_type": "markdown",
   "metadata": {},
   "source": [
    "# Part 2: load in the data and perform analyses\n",
    "\n",
    "text files are simple files containing any desired text. For this project the text files used contained the amino acid sequences for CK1D for various different species. In the code below, a function is defined called \"align()\" which takes two sequecnes and aligns them. The .txt files are read as strings, and the strings are then passed through the pairwise2 alingment function from BioPython. Four scoring values are used in the alignment: +1 for matches in the sequence, -1 for a mismatch, -1 for a gap, and -2 for a gap 2 amino acids or longer. The 'align()' function is then passed through each organism, using Humans as the reference"
   ]
  },
  {
   "cell_type": "code",
   "execution_count": 9,
   "metadata": {},
   "outputs": [
    {
     "name": "stdout",
     "output_type": "stream",
     "text": [
      "   Alignment Scores for Casein Kinase 1 Delta\n",
      "      Between Humans and Different Species\n"
     ]
    },
    {
     "data": {
      "image/png": "[encoded data removed]",
      "text/plain": [
       "<Figure size 432x288 with 1 Axes>"
      ]
     },
     "metadata": {
      "needs_background": "light"
     },
     "output_type": "display_data"
    }
   ],
   "source": [
    "import matplotlib.pyplot as plt\n",
    "from Bio import pairwise2\n",
    "\n",
    "def align(ref_seq, seq1):\n",
    "    \"Align and score two amino acid sequences using two .txt files containing the sequences\"\n",
    "    \n",
    "    # open sequence files - two text files containing desired amino acid sequences to compare\n",
    "    \n",
    "    ref_seq = open(ref_seq, 'r') \n",
    "    seq1 = open(seq1, 'r')\n",
    "    \n",
    "    # set alignment function: pairwise alignment of two sequecnes\n",
    "    \n",
    "    alignment = pairwise2.align.globalms(ref_seq.read(), seq1.read(), 1, -1, -2, -1, score_only=True)\n",
    "    result = alignment\n",
    "    # arguments 1, -1, -2, -1 are scoring parameters for a match, mismatch, gap extention, and gap opneing, respectively\n",
    "    return(result)\n",
    "\n",
    "# define all desired comparisons and store as seperate variables\n",
    "\n",
    "human_mice = align('Homo_Sapiens_Seq.txt', 'House_Mice_seq.txt') \n",
    "human_frog = align('Homo_Sapiens_Seq.txt', 'Clawed_Frog_Seq.txt')\n",
    "human_fish = align('Homo_Sapiens_Seq.txt', 'Zebra_Fish_Seq.txt')\n",
    "human_bat = align('Homo_Sapiens_Seq.txt', 'Fruit_Bat_Seq.txt')\n",
    "human_chimp = align('Homo_Sapiens_Seq.txt', 'Chimp_Seq.txt')\n",
    "\n",
    "# creation of table for display of scores\n",
    "\n",
    "plt.table(cellText=[['Zebrafish', str(human_fish)],\n",
    "                    ['Clawed Frog', str(human_frog)],\n",
    "                    ['House Mouse', (human_mice)],\n",
    "                   ['Fruit Bat', str(human_bat)],\n",
    "                   ['Chimp', str(human_chimp)]],\n",
    "          cellLoc='center', \n",
    "          colLabels=['Comparison w/ Human Reference', 'Alignment Score'], loc = 'top', \n",
    "          colColours = ['lightblue', 'lightblue'])\n",
    "\n",
    "# lines of code to remove plot that is automatically created using the table function (not needed)\n",
    "\n",
    "x = plt.gca() \n",
    "x.get_xaxis().set_visible(False)\n",
    "x.get_yaxis().set_visible(False)\n",
    "plt.box(on=None)\n",
    "\n",
    "# Pritning Table with description\n",
    "\n",
    "print('   Alignment Scores for Casein Kinase 1 Delta')\n",
    "print('      Between Humans and Different Species')\n",
    "plt.show()"
   ]
  },
  {
   "cell_type": "markdown",
   "metadata": {},
   "source": [
    "#  Part 3: displaying scores in a table\n",
    "\n",
    "The result of this code gives a table showing the 5 different species comparisons, along with their respective alignment scores. "
   ]
  },
  {
   "cell_type": "markdown",
   "metadata": {},
   "source": [
    "#  Part 4: Analyzing results \n",
    "\n",
    "The data in the table defintely shows a trend in alignment scores across teh different species. For example, starting with the zebrea fish, the socre for this alignment is 304. The Chimp alignment however gave back a score of 404, which is defintely higher than the zebrafish score. Since Chimpanzees are much closely realted to humans than the zebra fish, this data supports the hypothesis that evolutionariy closer organisms to humans will have higher alignment scores compared to more distant relativs. This hypothesis is further supported by the trend seen in the data. As species get closer to humans on the evolutionary tree, the scores increse, indicating a more conerved sequence. \n",
    "Another interesting thing to note is that although different species were tested, the amino acid sequence scores are still pretty high compared to the closest match (the chimp). This shows that the amino acid sequecnes for CK1D seems relatively conserved across all the species tested. "
   ]
  },
  {
   "cell_type": "markdown",
   "metadata": {},
   "source": []
  }
 ],
 "metadata": {
  "kernelspec": {
   "display_name": "Python 3",
   "language": "python",
   "name": "python3"
  },
  "language_info": {
   "codemirror_mode": {
    "name": "ipython",
    "version": 3
   },
   "file_extension": ".py",
   "mimetype": "text/x-python",
   "name": "python",
   "nbconvert_exporter": "python",
   "pygments_lexer": "ipython3",
   "version": "3.8.5"
  }
 },
 "nbformat": 4,
 "nbformat_minor": 4
}
